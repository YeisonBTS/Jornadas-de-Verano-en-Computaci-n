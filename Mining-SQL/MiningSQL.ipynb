{
 "cells": [
  {
   "cell_type": "markdown",
   "metadata": {},
   "source": [
    "### Data Mining Using SQL"
   ]
  },
  {
   "cell_type": "code",
   "execution_count": null,
   "metadata": {
    "collapsed": false
   },
   "outputs": [],
   "source": [
    "%load_ext sql\n",
    "%sql sqlite://\n",
    "import pandas as pd"
   ]
  },
  {
   "cell_type": "code",
   "execution_count": null,
   "metadata": {
    "collapsed": true
   },
   "outputs": [],
   "source": [
    "# For compatibility across multiple platforms\n",
    "import os\n",
    "IB = os.environ.get('INSTABASE_URI',None) is not None\n",
    "open = ib.open if IB else open"
   ]
  },
  {
   "cell_type": "code",
   "execution_count": null,
   "metadata": {
    "collapsed": false
   },
   "outputs": [],
   "source": [
    "# Load tables from CSV files\n",
    "# Shop\n",
    "with open('Shop.csv','rU') as f:\n",
    "    Shop = pd.read_csv(f, index_col=0, encoding='utf-8')\n",
    "%sql drop table if exists Shop;\n",
    "%sql persist Shop\n",
    "# Movies\n",
    "with open('Movies.csv','rU') as f:\n",
    "    Movies = pd.read_csv(f, index_col=0, encoding='utf-8')\n",
    "%sql drop table if exists Movies;\n",
    "%sql persist Movies"
   ]
  },
  {
   "cell_type": "markdown",
   "metadata": {},
   "source": [
    "## Shopping dataset - frequent item-sets"
   ]
  },
  {
   "cell_type": "code",
   "execution_count": null,
   "metadata": {
    "collapsed": false,
    "scrolled": true
   },
   "outputs": [],
   "source": [
    "%%sql\n",
    "select * from Shop"
   ]
  },
  {
   "cell_type": "markdown",
   "metadata": {},
   "source": [
    "### Frequent item-sets of two"
   ]
  },
  {
   "cell_type": "markdown",
   "metadata": {},
   "source": [
    "#### All pairs of items that occur together (see what's wrong and fix it)"
   ]
  },
  {
   "cell_type": "code",
   "execution_count": null,
   "metadata": {
    "collapsed": false
   },
   "outputs": [],
   "source": [
    "%%sql\n",
    "select T1.item as item1, T2.item as item2\n",
    "from Shop T1, Shop T2\n",
    "where T1.TID = T2.TID"
   ]
  },
  {
   "cell_type": "markdown",
   "metadata": {},
   "source": [
    "#### Now with number of transactions they occur together in"
   ]
  },
  {
   "cell_type": "code",
   "execution_count": null,
   "metadata": {
    "collapsed": false
   },
   "outputs": [],
   "source": [
    "%%sql\n",
    "select T1.item as item1, T2.item as item2, count(*)\n",
    "from Shop T1, Shop T2\n",
    "where T1.TID = T2.TID\n",
    "and T1.item < T2.item\n",
    "group by T1.item, T2.item"
   ]
  },
  {
   "cell_type": "markdown",
   "metadata": {},
   "source": [
    "#### Total number of transactions"
   ]
  },
  {
   "cell_type": "code",
   "execution_count": null,
   "metadata": {
    "collapsed": false
   },
   "outputs": [],
   "source": [
    "%%sql\n",
    "select count(distinct TID) from Shop"
   ]
  },
  {
   "cell_type": "markdown",
   "metadata": {},
   "source": [
    "#### Put it together for frequent item-sets"
   ]
  },
  {
   "cell_type": "code",
   "execution_count": null,
   "metadata": {
    "collapsed": false
   },
   "outputs": [],
   "source": [
    "support = .3\n",
    "print support"
   ]
  },
  {
   "cell_type": "code",
   "execution_count": null,
   "metadata": {
    "collapsed": false
   },
   "outputs": [],
   "source": [
    "%%sql\n",
    "select T1.item as item1, T2.item as item2\n",
    "from Shop T1, Shop T2\n",
    "where T1.TID = T2.TID\n",
    "and T1.item < T2.item\n",
    "group by T1.item, T2.item\n",
    "having count(*)*1.0 / (select count(distinct TID) from Shop) > :support"
   ]
  },
  {
   "cell_type": "markdown",
   "metadata": {},
   "source": [
    "### Frequent item-sets of three"
   ]
  },
  {
   "cell_type": "markdown",
   "metadata": {},
   "source": [
    "#### All triples of items that occur together"
   ]
  },
  {
   "cell_type": "code",
   "execution_count": null,
   "metadata": {
    "collapsed": false
   },
   "outputs": [],
   "source": [
    "%%sql\n",
    "select T1.item as item1, T2.item as item2, T3.item as item3\n",
    "from Shop T1, Shop T2, Shop T3\n",
    "where T1.TID = T2.TID and T2.TID = T3.TID\n",
    "and T1.item < T2.item and T2.item < T3.item"
   ]
  },
  {
   "cell_type": "markdown",
   "metadata": {},
   "source": [
    "#### Now with number of transactions they occur together in"
   ]
  },
  {
   "cell_type": "code",
   "execution_count": null,
   "metadata": {
    "collapsed": false
   },
   "outputs": [],
   "source": [
    "%%sql\n",
    "select T1.item as item1, T2.item as item2, T3.item as item3, count(*)\n",
    "from Shop T1, Shop T2, Shop T3\n",
    "where T1.TID = T2.TID and T2.TID = T3.TID\n",
    "and T1.item < T2.item and T2.item < T3.item\n",
    "group by T1.item, T2.item, T3.item"
   ]
  },
  {
   "cell_type": "markdown",
   "metadata": {},
   "source": [
    "#### Now frequent item-sets"
   ]
  },
  {
   "cell_type": "code",
   "execution_count": null,
   "metadata": {
    "collapsed": false
   },
   "outputs": [],
   "source": [
    "support = .3\n",
    "print support"
   ]
  },
  {
   "cell_type": "code",
   "execution_count": null,
   "metadata": {
    "collapsed": false
   },
   "outputs": [],
   "source": [
    "%%sql\n",
    "select T1.item as item1, T2.item as item2, T3.item as item3\n",
    "from Shop T1, Shop T2, Shop T3\n",
    "where T1.TID = T2.TID and T2.TID = T3.TID\n",
    "and T1.item < T2.item and T2.item < T3.item\n",
    "group by T1.item, T2.item, T3.item\n",
    "having count(*)*1.0 / (select count(distinct TID) from Shop) > :support"
   ]
  },
  {
   "cell_type": "markdown",
   "metadata": {},
   "source": [
    "### <font color = 'green'>Your Turn - Movies dataset frequent item-sets</font>"
   ]
  },
  {
   "cell_type": "code",
   "execution_count": null,
   "metadata": {
    "collapsed": false
   },
   "outputs": [],
   "source": [
    "%%sql\n",
    "select * from Movies limit 15"
   ]
  },
  {
   "cell_type": "code",
   "execution_count": null,
   "metadata": {
    "collapsed": false
   },
   "outputs": [],
   "source": [
    "%%sql\n",
    "select count(*), count(distinct TID) from Movies"
   ]
  },
  {
   "cell_type": "markdown",
   "metadata": {},
   "source": [
    "#### Mine for frequent item-sets of three and four items in the Movies dataset. Find a single support threshold where the number of frequent item-sets of three items is more than 10 but less than 20, and the number of frequent item-sets of four items is more than 0."
   ]
  },
  {
   "cell_type": "code",
   "execution_count": null,
   "metadata": {
    "collapsed": true
   },
   "outputs": [],
   "source": [
    "support = INSERT VALUE HERE\n",
    "print support"
   ]
  },
  {
   "cell_type": "code",
   "execution_count": null,
   "metadata": {
    "collapsed": false
   },
   "outputs": [],
   "source": [
    "%%sql\n",
    "INSERT CODE FOR ITEM-SETS OF THREE HERE"
   ]
  },
  {
   "cell_type": "code",
   "execution_count": null,
   "metadata": {
    "collapsed": false
   },
   "outputs": [],
   "source": [
    "%%sql\n",
    "INSERT CODE FOR ITEM-SETS OF FOUR HERE"
   ]
  },
  {
   "cell_type": "markdown",
   "metadata": {},
   "source": [
    "## Shopping dataset - association rules"
   ]
  },
  {
   "cell_type": "markdown",
   "metadata": {},
   "source": [
    "### Association rules with one item on the left-hand side"
   ]
  },
  {
   "cell_type": "code",
   "execution_count": null,
   "metadata": {
    "collapsed": false
   },
   "outputs": [],
   "source": [
    "support = .5\n",
    "confidence = .5\n",
    "print support, confidence"
   ]
  },
  {
   "cell_type": "markdown",
   "metadata": {},
   "source": [
    "#### First compute frequent item-sets of one item with specified support, as candidate left-hand sides of assocation rules"
   ]
  },
  {
   "cell_type": "code",
   "execution_count": null,
   "metadata": {
    "collapsed": false
   },
   "outputs": [],
   "source": [
    "%%sql\n",
    "select item, count(*)\n",
    "from Shop\n",
    "group by item\n",
    "having count(*)*1.0 / (select count(distinct TID) from Shop) > :support;"
   ]
  },
  {
   "cell_type": "markdown",
   "metadata": {},
   "source": [
    "#### Do the same query but save the result in a table called \"Frequents\""
   ]
  },
  {
   "cell_type": "code",
   "execution_count": null,
   "metadata": {
    "collapsed": false
   },
   "outputs": [],
   "source": [
    "%%sql\n",
    "drop table if exists Frequent;\n",
    "create table Frequent(item, numtrans);\n",
    "insert into Frequent\n",
    "select item, count(*)\n",
    "from Shop\n",
    "group by item\n",
    "having count(*)*1.0 / (select count(distinct TID) from Shop) > :support;\n",
    "select * from Frequent;"
   ]
  },
  {
   "cell_type": "markdown",
   "metadata": {
    "collapsed": true
   },
   "source": [
    "#### All pairs with frequent left-hand side, number of transactions for left-hand side, and number of transactions for both"
   ]
  },
  {
   "cell_type": "code",
   "execution_count": null,
   "metadata": {
    "collapsed": false
   },
   "outputs": [],
   "source": [
    "%%sql\n",
    "select T1.item as LHS, T2.item as RHS, F.numtrans, count(*)\n",
    "from Shop T1, Shop T2, Frequent F\n",
    "where T1.item = F.item\n",
    "and T1.TID = T2.TID\n",
    "and T1.item <> T2.item\n",
    "group by T1.item, T2.item"
   ]
  },
  {
   "cell_type": "markdown",
   "metadata": {
    "collapsed": true
   },
   "source": [
    "#### Add check for specified confidence to get final result"
   ]
  },
  {
   "cell_type": "code",
   "execution_count": null,
   "metadata": {
    "collapsed": false
   },
   "outputs": [],
   "source": [
    "%%sql\n",
    "select T1.item as LHS, T2.item as RHS\n",
    "from Shop T1, Shop T2, Frequent F\n",
    "where T1.item = F.item\n",
    "and T1.TID = T2.TID\n",
    "and T1.item <> T2.item\n",
    "group by T1.item, T2.item\n",
    "having count(*)*1.0 / F.numtrans > :confidence"
   ]
  },
  {
   "cell_type": "markdown",
   "metadata": {},
   "source": [
    "### Association rules with two items on the left-hand side"
   ]
  },
  {
   "cell_type": "code",
   "execution_count": null,
   "metadata": {
    "collapsed": false
   },
   "outputs": [],
   "source": [
    "support = .5\n",
    "confidence = .5\n",
    "print support, confidence"
   ]
  },
  {
   "cell_type": "markdown",
   "metadata": {},
   "source": [
    "#### First compute frequent item-sets of two items with specified support, as candidate left-hand sides of assocation rules. Save in table \"Frequent\" along with number of transactions"
   ]
  },
  {
   "cell_type": "code",
   "execution_count": null,
   "metadata": {
    "collapsed": false
   },
   "outputs": [],
   "source": [
    "%%sql\n",
    "drop table if exists Frequent;\n",
    "create table Frequent(item1, item2, numtrans);\n",
    "insert into Frequent\n",
    "select T1.item, T2.item, count(*)\n",
    "from Shop T1, Shop T2\n",
    "where T1.TID = T2.TID\n",
    "and T1.item < T2.item\n",
    "group by T1.item, T2.item\n",
    "having count(*)*1.0 / (select count(distinct TID) from Shop) > :support;\n",
    "select * from Frequent;"
   ]
  },
  {
   "cell_type": "markdown",
   "metadata": {
    "collapsed": true
   },
   "source": [
    "#### All triples with frequent left-hand side, number of transactions for left-hand side, and number of transactions for all three"
   ]
  },
  {
   "cell_type": "code",
   "execution_count": null,
   "metadata": {
    "collapsed": false
   },
   "outputs": [],
   "source": [
    "%%sql\n",
    "select T1.item as LHS1, T2.item as LHS2, T3.item as RHS, F.numtrans, count(*)\n",
    "from Shop T1, Shop T2, Shop T3, Frequent F\n",
    "where T1.item = F.item1 and T2.item = F.item2\n",
    "and T1.TID = T2.TID and T2.TID = T3.TID\n",
    "and T1.item <> T2.item and T2.item <> T3.item and T1.item <> T3.item\n",
    "group by T1.item, T2.item, T3.item"
   ]
  },
  {
   "cell_type": "markdown",
   "metadata": {
    "collapsed": true
   },
   "source": [
    "#### Add check for specified confidence to get final result"
   ]
  },
  {
   "cell_type": "code",
   "execution_count": null,
   "metadata": {
    "collapsed": false
   },
   "outputs": [],
   "source": [
    "%%sql\n",
    "select T1.item as LHS1, T2.item as LHS2, T3.item as RHS\n",
    "from Shop T1, Shop T2, Shop T3, Frequent F\n",
    "where T1.item = F.item1 and T2.item = F.item2\n",
    "and T1.TID = T2.TID and T2.TID = T3.TID\n",
    "and T1.item <> T2.item and T2.item <> T3.item and T1.item <> T3.item\n",
    "group by T1.item, T2.item, T3.item\n",
    "having count(*)*1.0 / F.numtrans > :confidence"
   ]
  },
  {
   "cell_type": "markdown",
   "metadata": {},
   "source": [
    "### <font color = 'green'>Your Turn - Movies dataset association rules</font>"
   ]
  },
  {
   "cell_type": "markdown",
   "metadata": {},
   "source": [
    "#### Mine for association rules in the Movies dataset with three items on the left-hand side. Find support and confidence thresholds (need not be the same) so the number of association rules is more than 10 but less than 20.\n"
   ]
  },
  {
   "cell_type": "code",
   "execution_count": null,
   "metadata": {
    "collapsed": true
   },
   "outputs": [],
   "source": [
    "support = INSERT VALUE HERE\n",
    "confidence = INSERT SAME OR DIFFERENT VALUE HERE\n",
    "print support, confidence"
   ]
  },
  {
   "cell_type": "code",
   "execution_count": null,
   "metadata": {
    "collapsed": false
   },
   "outputs": [],
   "source": [
    "%%sql\n",
    "drop table if exists Frequent;\n",
    "INSERT CODE FOR CREATING FREQUENT TABLE WITH ITEM-SETS OF THREE HERE"
   ]
  },
  {
   "cell_type": "code",
   "execution_count": null,
   "metadata": {
    "collapsed": false
   },
   "outputs": [],
   "source": [
    "%%sql\n",
    "INSERT CODE FOR ASSOCIATION RULES HERE"
   ]
  }
 ],
 "metadata": {
  "kernelspec": {
   "display_name": "Python 2",
   "language": "python",
   "name": "python2"
  },
  "language_info": {
   "codemirror_mode": {
    "name": "ipython",
    "version": 2
   },
   "file_extension": ".py",
   "mimetype": "text/x-python",
   "name": "python",
   "nbconvert_exporter": "python",
   "pygments_lexer": "ipython2",
   "version": "2.7.12"
  }
 },
 "nbformat": 4,
 "nbformat_minor": 0
}
